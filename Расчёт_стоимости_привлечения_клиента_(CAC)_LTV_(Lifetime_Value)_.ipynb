{
  "nbformat": 4,
  "nbformat_minor": 0,
  "metadata": {
    "colab": {
      "provenance": [],
      "include_colab_link": true
    },
    "kernelspec": {
      "name": "python3",
      "display_name": "Python 3"
    },
    "language_info": {
      "name": "python"
    }
  },
  "cells": [
    {
      "cell_type": "markdown",
      "metadata": {
        "id": "view-in-github",
        "colab_type": "text"
      },
      "source": [
        "<a href=\"https://colab.research.google.com/github/Pv01energ/jdfree-homeworks/blob/main/%D0%A0%D0%B0%D1%81%D1%87%D1%91%D1%82_%D1%81%D1%82%D0%BE%D0%B8%D0%BC%D0%BE%D1%81%D1%82%D0%B8_%D0%BF%D1%80%D0%B8%D0%B2%D0%BB%D0%B5%D1%87%D0%B5%D0%BD%D0%B8%D1%8F_%D0%BA%D0%BB%D0%B8%D0%B5%D0%BD%D1%82%D0%B0_(CAC)_LTV_(Lifetime_Value)_.ipynb\" target=\"_parent\"><img src=\"https://colab.research.google.com/assets/colab-badge.svg\" alt=\"Open In Colab\"/></a>"
      ]
    },
    {
      "cell_type": "code",
      "execution_count": null,
      "metadata": {
        "id": "A1NXpZ7Uy5h9"
      },
      "outputs": [],
      "source": [
        "# Подсчет окупаемости привлечения клиента (САС):\n",
        "# (в поле OUT введите сумму (затрат, чека и периодичночсти оплат) и нажмите 'Enter')\n",
        "cac = int(input(\"Введите расходы на привлечение клиента (САС):  \"))\n",
        "avcheck = int(input(\"Введите средний чек покупки (единовременной СРО):  \"))\n",
        "buytime = int(input(\"Введите периодичность покупок в месяц (кол-во оплаченых покупок/мес.):  \"))\n",
        "ltv = round(cac/(avcheck*(buytime/30)))\n",
        "ltv2 = round(cac/(avcheck*(buytime/4)))\n",
        "ltv3 = round(cac/(avcheck*(buytime)))\n",
        "print('Клиент окупится (ориентировочно): через {} дней, (т.е. порядка {} недель или {} месяц.).'.format(ltv, ltv2, ltv3))\n"
      ]
    }
  ]
}
